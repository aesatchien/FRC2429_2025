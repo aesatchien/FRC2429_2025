{
 "cells": [
  {
   "cell_type": "markdown",
   "id": "cc5f54fb-a858-4294-b6f6-6476cdac6358",
   "metadata": {},
   "source": [
    "#### using the scoring math from reefscape utils\n",
    "#### 20250215 CJH"
   ]
  },
  {
   "cell_type": "code",
   "execution_count": 5,
   "id": "aa55703f-0972-474f-8246-3864c5d7e49e",
   "metadata": {
    "scrolled": true
   },
   "outputs": [],
   "source": [
    "import numpy as np\n",
    "import pandas as pd\n",
    "import matplotlib.pyplot as plt\n",
    "import matplotlib.patches as patches\n",
    "from IPython.display import display, clear_output\n",
    "from importlib import reload \n",
    "import reefscape_utils as ru"
   ]
  },
  {
   "cell_type": "code",
   "execution_count": 6,
   "id": "1d07a7c5-427d-47a1-8d84-b81c11b256a4",
   "metadata": {},
   "outputs": [
    {
     "data": {
      "text/plain": [
       "<module 'reefscape_utils' from 'C:\\\\CJH\\\\Python\\\\FRC\\\\2025\\\\resources\\\\plots\\\\reefscape_utils.py'>"
      ]
     },
     "execution_count": 6,
     "metadata": {},
     "output_type": "execute_result"
    }
   ],
   "source": [
    "reload (ru)"
   ]
  },
  {
   "cell_type": "markdown",
   "id": "1fac3531-fce3-4b8b-be3d-90824e62e1ab",
   "metadata": {},
   "source": [
    "#### making trajectory guidelines - looks like we should come up one inch on the elevator as we continue down another 10 degrees"
   ]
  },
  {
   "cell_type": "code",
   "execution_count": 24,
   "id": "53fbdf41-cda7-41e5-b349-0f9fd24b3cb1",
   "metadata": {},
   "outputs": [],
   "source": [
    "data = {}\n",
    "for bottom in range(6,1,-1):\n",
    "    engagement_positions = {key: ru.solve_engagement(val[\"height\"], val[\"x\"], val[\"offset\"], bottom) for key, val in ru.target_pipes.items()}\n",
    "    data[bottom]= engagement_positions\n",
    "df = pd.DataFrame(data).transpose()"
   ]
  },
  {
   "cell_type": "code",
   "execution_count": 27,
   "id": "43b3d7f7-4269-400e-864a-df092325ec5f",
   "metadata": {},
   "outputs": [
    {
     "data": {
      "text/html": [
       "<div>\n",
       "<style scoped>\n",
       "    .dataframe tbody tr th:only-of-type {\n",
       "        vertical-align: middle;\n",
       "    }\n",
       "\n",
       "    .dataframe tbody tr th {\n",
       "        vertical-align: top;\n",
       "    }\n",
       "\n",
       "    .dataframe thead th {\n",
       "        text-align: right;\n",
       "    }\n",
       "</style>\n",
       "<table border=\"1\" class=\"dataframe\">\n",
       "  <thead>\n",
       "    <tr style=\"text-align: right;\">\n",
       "      <th></th>\n",
       "      <th>DEPTH</th>\n",
       "      <th>H4</th>\n",
       "      <th>H3</th>\n",
       "      <th>H2</th>\n",
       "      <th>H1</th>\n",
       "    </tr>\n",
       "  </thead>\n",
       "  <tbody>\n",
       "    <tr>\n",
       "      <th>6</th>\n",
       "      <td>6</td>\n",
       "      <td>{'H': 57.16, 'THETA': 47.25, 'offset': -2}</td>\n",
       "      <td>{'H': 29.99, 'THETA': 53.72, 'offset': 0}</td>\n",
       "      <td>{'H': 14.09, 'THETA': 53.72, 'offset': 0}</td>\n",
       "      <td>{'H': 7.1, 'THETA': 37.41, 'offset': 0}</td>\n",
       "    </tr>\n",
       "    <tr>\n",
       "      <th>5</th>\n",
       "      <td>5</td>\n",
       "      <td>{'H': 57.53, 'THETA': 44.43, 'offset': -2}</td>\n",
       "      <td>{'H': 30.32, 'THETA': 51.04, 'offset': 0}</td>\n",
       "      <td>{'H': 14.42, 'THETA': 51.04, 'offset': 0}</td>\n",
       "      <td>{'H': 7.62, 'THETA': 34.22, 'offset': 0}</td>\n",
       "    </tr>\n",
       "    <tr>\n",
       "      <th>4</th>\n",
       "      <td>4</td>\n",
       "      <td>{'H': 57.85, 'THETA': 41.67, 'offset': -2}</td>\n",
       "      <td>{'H': 30.59, 'THETA': 48.41, 'offset': 0}</td>\n",
       "      <td>{'H': 14.69, 'THETA': 48.41, 'offset': 0}</td>\n",
       "      <td>{'H': 8.07, 'THETA': 31.15, 'offset': 0}</td>\n",
       "    </tr>\n",
       "    <tr>\n",
       "      <th>3</th>\n",
       "      <td>3</td>\n",
       "      <td>{'H': 58.1, 'THETA': 39.01, 'offset': -2}</td>\n",
       "      <td>{'H': 30.8, 'THETA': 45.85, 'offset': 0}</td>\n",
       "      <td>{'H': 14.9, 'THETA': 45.85, 'offset': 0}</td>\n",
       "      <td>{'H': 8.43, 'THETA': 28.21, 'offset': 0}</td>\n",
       "    </tr>\n",
       "    <tr>\n",
       "      <th>2</th>\n",
       "      <td>2</td>\n",
       "      <td>{'H': 58.28, 'THETA': 36.45, 'offset': -2}</td>\n",
       "      <td>{'H': 30.96, 'THETA': 43.37, 'offset': 0}</td>\n",
       "      <td>{'H': 15.06, 'THETA': 43.37, 'offset': 0}</td>\n",
       "      <td>{'H': 8.7, 'THETA': 25.44, 'offset': 0}</td>\n",
       "    </tr>\n",
       "  </tbody>\n",
       "</table>\n",
       "</div>"
      ],
      "text/plain": [
       "   DEPTH                                          H4  \\\n",
       "6      6  {'H': 57.16, 'THETA': 47.25, 'offset': -2}   \n",
       "5      5  {'H': 57.53, 'THETA': 44.43, 'offset': -2}   \n",
       "4      4  {'H': 57.85, 'THETA': 41.67, 'offset': -2}   \n",
       "3      3   {'H': 58.1, 'THETA': 39.01, 'offset': -2}   \n",
       "2      2  {'H': 58.28, 'THETA': 36.45, 'offset': -2}   \n",
       "\n",
       "                                          H3  \\\n",
       "6  {'H': 29.99, 'THETA': 53.72, 'offset': 0}   \n",
       "5  {'H': 30.32, 'THETA': 51.04, 'offset': 0}   \n",
       "4  {'H': 30.59, 'THETA': 48.41, 'offset': 0}   \n",
       "3   {'H': 30.8, 'THETA': 45.85, 'offset': 0}   \n",
       "2  {'H': 30.96, 'THETA': 43.37, 'offset': 0}   \n",
       "\n",
       "                                          H2  \\\n",
       "6  {'H': 14.09, 'THETA': 53.72, 'offset': 0}   \n",
       "5  {'H': 14.42, 'THETA': 51.04, 'offset': 0}   \n",
       "4  {'H': 14.69, 'THETA': 48.41, 'offset': 0}   \n",
       "3   {'H': 14.9, 'THETA': 45.85, 'offset': 0}   \n",
       "2  {'H': 15.06, 'THETA': 43.37, 'offset': 0}   \n",
       "\n",
       "                                         H1  \n",
       "6   {'H': 7.1, 'THETA': 37.41, 'offset': 0}  \n",
       "5  {'H': 7.62, 'THETA': 34.22, 'offset': 0}  \n",
       "4  {'H': 8.07, 'THETA': 31.15, 'offset': 0}  \n",
       "3  {'H': 8.43, 'THETA': 28.21, 'offset': 0}  \n",
       "2   {'H': 8.7, 'THETA': 25.44, 'offset': 0}  "
      ]
     },
     "execution_count": 27,
     "metadata": {},
     "output_type": "execute_result"
    }
   ],
   "source": [
    "df['DEPTH'] = df.index\n",
    "df = df[['DEPTH', 'H4', 'H3', 'H2', 'H1']]\n",
    "df"
   ]
  },
  {
   "cell_type": "markdown",
   "id": "fed1a980-3f91-4dd9-a7f7-09ddebc3eaef",
   "metadata": {},
   "source": [
    "#### setting up the plot - lots of matplotlib"
   ]
  },
  {
   "cell_type": "code",
   "execution_count": null,
   "id": "b4e0637c-d239-471f-b6ba-efc9b5af1aa7",
   "metadata": {},
   "outputs": [],
   "source": []
  },
  {
   "cell_type": "markdown",
   "id": "5fce669c-1d91-4b1a-976a-8f5176fdd622",
   "metadata": {},
   "source": [
    "#### defining plots and animations"
   ]
  },
  {
   "cell_type": "markdown",
   "id": "b779db59-efff-4629-8de7-1e29991154d7",
   "metadata": {},
   "source": [
    "#### using the plots"
   ]
  },
  {
   "cell_type": "markdown",
   "id": "f0bc9370-5bb9-466e-ba00-83f1fb838a29",
   "metadata": {},
   "source": [
    "#### play with a trajectory"
   ]
  },
  {
   "cell_type": "code",
   "execution_count": 28,
   "id": "b606b637-ea4d-4264-82bf-da228c07d6e8",
   "metadata": {},
   "outputs": [],
   "source": [
    "import wpimath.controller"
   ]
  },
  {
   "cell_type": "code",
   "execution_count": 39,
   "id": "bab3ab39-37f0-4d0e-89e1-46de40d174a7",
   "metadata": {},
   "outputs": [],
   "source": [
    "t = wpimath.controller.ElevatorFeedforward(\n",
    "                kS=0,\n",
    "                kG=.44,\n",
    "                kV=12.05,\n",
    "                kA=.1,\n",
    "                dt=0.02)"
   ]
  },
  {
   "cell_type": "code",
   "execution_count": 45,
   "id": "74d4be0d-0ac9-4d09-8d4e-251dfb520b05",
   "metadata": {},
   "outputs": [],
   "source": [
    "x = [i/10 for i in range(121)]\n",
    "y = [t.calculate(i) for i in x]"
   ]
  },
  {
   "cell_type": "code",
   "execution_count": 63,
   "id": "bf1ae138-990a-421f-972c-7637afae3904",
   "metadata": {},
   "outputs": [
    {
     "data": {
      "text/plain": [
       "\u001b[1;31mDocstring:\u001b[0m\n",
       "calculate(*args, **kwargs)\n",
       "Overloaded function.\n",
       "\n",
       "1. calculate(self: wpimath._controls._controls.controller.ElevatorFeedforward, currentVelocity: wpimath.units.meters_per_second) -> wpimath.units.volts\n",
       "\n",
       "Calculates the feedforward from the gains and setpoint assuming discrete\n",
       "control. Use this method when the setpoint does not change.\n",
       "\n",
       ":param currentVelocity: The velocity setpoint.\n",
       "\n",
       ":returns: The computed feedforward, in volts.\n",
       "\n",
       "2. calculate(self: wpimath._controls._controls.controller.ElevatorFeedforward, currentVelocity: wpimath.units.meters_per_second, nextVelocity: wpimath.units.meters_per_second) -> wpimath.units.volts\n",
       "\n",
       "Calculates the feedforward from the gains and setpoints assuming discrete\n",
       "control.\n",
       "\n",
       "Note this method is inaccurate when the velocity crosses 0.\n",
       "\n",
       ":param currentVelocity: The current velocity setpoint.\n",
       ":param nextVelocity:    The next velocity setpoint.\n",
       "\n",
       ":returns: The computed feedforward, in volts.\n",
       "\u001b[1;31mType:\u001b[0m      method"
      ]
     },
     "metadata": {},
     "output_type": "display_data"
    }
   ],
   "source": [
    "t.calculate?"
   ]
  },
  {
   "cell_type": "code",
   "execution_count": 46,
   "id": "ec22eb7f-1d41-4862-a392-cecab8d3d647",
   "metadata": {
    "scrolled": true
   },
   "outputs": [
    {
     "data": {
      "text/plain": [
       "[<matplotlib.lines.Line2D at 0x25a5eb238d0>]"
      ]
     },
     "execution_count": 46,
     "metadata": {},
     "output_type": "execute_result"
    },
    {
     "data": {
      "image/png": "[encoded data removed]",
      "text/plain": [
       "<Figure size 640x480 with 1 Axes>"
      ]
     },
     "metadata": {},
     "output_type": "display_data"
    }
   ],
   "source": [
    "fig,ax = plt.subplots(1,1)\n",
    "ax.plot(x,y)"
   ]
  },
  {
   "cell_type": "code",
   "execution_count": null,
   "id": "bf5debe4-3729-43be-bb5b-53ce6f2dc49d",
   "metadata": {},
   "outputs": [],
   "source": []
  },
  {
   "cell_type": "code",
   "execution_count": 57,
   "id": "8350d8a1-a22a-4737-b1c9-17f1257dd85c",
   "metadata": {},
   "outputs": [
    {
     "data": {
      "text/plain": [
       "94.6"
      ]
     },
     "execution_count": 57,
     "metadata": {},
     "output_type": "execute_result"
    }
   ],
   "source": [
    "max_rps = 5676/60\n",
    "max_rps"
   ]
  },
  {
   "cell_type": "code",
   "execution_count": 59,
   "id": "c4054c1c-1d11-4706-9dc1-142ef88102c8",
   "metadata": {},
   "outputs": [
    {
     "data": {
      "text/plain": [
       "6.306666666666667"
      ]
     },
     "execution_count": 59,
     "metadata": {},
     "output_type": "execute_result"
    }
   ],
   "source": [
    "geared_rps = max_rps / 15\n",
    "geared_rps"
   ]
  },
  {
   "cell_type": "code",
   "execution_count": 61,
   "id": "8eaa942e-fa79-400c-9fec-0fe191f38ecf",
   "metadata": {},
   "outputs": [
    {
     "data": {
      "text/plain": [
       "5.9974"
      ]
     },
     "execution_count": 61,
     "metadata": {},
     "output_type": "execute_result"
    }
   ],
   "source": [
    "spool = 1.91 * 3.14\n",
    "spool"
   ]
  },
  {
   "cell_type": "code",
   "execution_count": 62,
   "id": "4f72c4de-2ad4-40ff-a4c0-ba2a64fa9c21",
   "metadata": {},
   "outputs": [
    {
     "data": {
      "text/plain": [
       "37.823602666666666"
      ]
     },
     "execution_count": 62,
     "metadata": {},
     "output_type": "execute_result"
    }
   ],
   "source": [
    "spool * geared_rps"
   ]
  },
  {
   "cell_type": "code",
   "execution_count": null,
   "id": "4d9970f7-314c-49cb-b162-294b187651ea",
   "metadata": {},
   "outputs": [],
   "source": []
  }
 ],
 "metadata": {
  "kernelspec": {
   "display_name": "Python [conda env:robo2025]",
   "language": "python",
   "name": "conda-env-robo2025-py"
  },
  "language_info": {
   "codemirror_mode": {
    "name": "ipython",
    "version": 3
   },
   "file_extension": ".py",
   "mimetype": "text/x-python",
   "name": "python",
   "nbconvert_exporter": "python",
   "pygments_lexer": "ipython3",
   "version": "3.11.11"
  }
 },
 "nbformat": 4,
 "nbformat_minor": 5
}
