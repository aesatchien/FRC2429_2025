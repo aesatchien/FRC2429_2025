{
 "cells": [
  {
   "cell_type": "markdown",
   "id": "826cb362-68dd-4355-bff9-893c27c110f1",
   "metadata": {},
   "source": [
    "### shift pathplanner json files from right to left  20250323 CJH"
   ]
  },
  {
   "cell_type": "code",
   "execution_count": 1,
   "id": "178e328e-5d6e-4f49-b196-34b4be430f4f",
   "metadata": {},
   "outputs": [],
   "source": [
    "import json"
   ]
  },
  {
   "cell_type": "code",
   "execution_count": 11,
   "id": "dcc0602a-16f9-463b-bfc3-8eb0597da2bb",
   "metadata": {},
   "outputs": [],
   "source": [
    "pathdir = r\"C:\\CJH\\Python\\FRC\\2025\\robot\\deploy\\pathplanner\\paths\\\\\""
   ]
  },
  {
   "cell_type": "code",
   "execution_count": 17,
   "id": "f82291a2-7ecc-427d-a01b-d1da8c2f72b4",
   "metadata": {},
   "outputs": [],
   "source": [
    "# Set the offset value\n",
    "offset = 8.062"
   ]
  },
  {
   "cell_type": "code",
   "execution_count": 31,
   "id": "dc27e2ce-d182-4774-af07-73ed45514211",
   "metadata": {},
   "outputs": [],
   "source": [
    "# Load the JSON file\n",
    "input_filename = pathdir + \"1+1 C score.path\"\n",
    "output_filename = pathdir + \"test.path\"\n",
    "\n",
    "with open(input_filename, \"r\") as f:\n",
    "    data = json.load(f)"
   ]
  },
  {
   "cell_type": "code",
   "execution_count": 27,
   "id": "ded075ac-512f-4d6d-8c51-a87f376a0f76",
   "metadata": {},
   "outputs": [],
   "source": [
    "#data"
   ]
  },
  {
   "cell_type": "code",
   "execution_count": 28,
   "id": "c1d7fe12-ec0c-4ff6-a7ec-cc4fa524851a",
   "metadata": {},
   "outputs": [],
   "source": [
    "# Helper function to apply offset to y if the key exists\n",
    "def apply_offset_y(obj):\n",
    "    if isinstance(obj, dict):\n",
    "        if \"y\" in obj:\n",
    "            obj[\"y\"] = offset - obj[\"y\"]\n",
    "        for value in obj.values():\n",
    "            apply_offset_y(value)\n",
    "    elif isinstance(obj, list):\n",
    "        for item in obj:\n",
    "            apply_offset_y(item)"
   ]
  },
  {
   "cell_type": "code",
   "execution_count": 29,
   "id": "ef013fe2-edec-4fc5-9c8b-1ef8e043a3cc",
   "metadata": {},
   "outputs": [],
   "source": [
    "# Apply the offset to all 'y' values\n",
    "apply_offset_y(data)"
   ]
  },
  {
   "cell_type": "code",
   "execution_count": 35,
   "id": "1ffab7b5-276b-4bad-a93c-9df01cecec77",
   "metadata": {
    "scrolled": true
   },
   "outputs": [
    {
     "data": {
      "text/plain": [
       "(6.967999999999999, 5.1579999999999995, 5.012)"
      ]
     },
     "execution_count": 35,
     "metadata": {},
     "output_type": "execute_result"
    }
   ],
   "source": [
    "offset - 1.094, offset - 2.904, offset - 3.050, "
   ]
  },
  {
   "cell_type": "code",
   "execution_count": 37,
   "id": "fda3bc93-2cd2-4df8-8b3d-34f745d04647",
   "metadata": {},
   "outputs": [
    {
     "data": {
      "text/plain": [
       "5.411999999999999"
      ]
     },
     "execution_count": 37,
     "metadata": {},
     "output_type": "execute_result"
    }
   ],
   "source": [
    "offset - 2.65"
   ]
  },
  {
   "cell_type": "code",
   "execution_count": 30,
   "id": "e7c4b95b-6cca-43ac-aa88-e6f5460dece5",
   "metadata": {},
   "outputs": [
    {
     "data": {
      "text/plain": [
       "{'version': '2025.0',\n",
       " 'waypoints': [{'anchor': {'x': 0.8870901639344262, 'y': 1.0940061475409832},\n",
       "   'prevControl': None,\n",
       "   'nextControl': {'x': 1.7262295081967212, 'y': 0.32679303278688554},\n",
       "   'isLocked': False,\n",
       "   'linkedName': 'right hp'},\n",
       "  {'anchor': {'x': 3.7641393442622952, 'y': 4.9660471311475405},\n",
       "   'prevControl': {'x': 2.8290983606557374, 'y': 5.745247950819671},\n",
       "   'nextControl': None,\n",
       "   'isLocked': False,\n",
       "   'linkedName': None}],\n",
       " 'rotationTargets': [],\n",
       " 'constraintZones': [{'name': 'Constraints Zone',\n",
       "   'minWaypointRelativePos': 0,\n",
       "   'maxWaypointRelativePos': 1.0,\n",
       "   'constraints': {'maxVelocity': 0.5,\n",
       "    'maxAcceleration': 3.0,\n",
       "    'maxAngularVelocity': 90.0,\n",
       "    'maxAngularAcceleration': 720.0,\n",
       "    'nominalVoltage': 12.0,\n",
       "    'unlimited': False}}],\n",
       " 'pointTowardsZones': [],\n",
       " 'eventMarkers': [{'name': '',\n",
       "   'waypointRelativePos': 0.6215574548907759,\n",
       "   'endWaypointRelativePos': None,\n",
       "   'command': {'type': 'named', 'data': {'name': 'go to l4'}}}],\n",
       " 'globalConstraints': {'maxVelocity': 1.0,\n",
       "  'maxAcceleration': 3.0,\n",
       "  'maxAngularVelocity': 90.0,\n",
       "  'maxAngularAcceleration': 720.0,\n",
       "  'nominalVoltage': 12.0,\n",
       "  'unlimited': False},\n",
       " 'goalEndState': {'velocity': 0, 'rotation': 150.0},\n",
       " 'reversed': False,\n",
       " 'folder': '1+1',\n",
       " 'idealStartingState': {'velocity': 0, 'rotation': 145.00797980144137},\n",
       " 'useDefaultConstraints': True}"
      ]
     },
     "execution_count": 30,
     "metadata": {},
     "output_type": "execute_result"
    }
   ],
   "source": [
    "data"
   ]
  },
  {
   "cell_type": "code",
   "execution_count": 25,
   "id": "73935d49-4816-4bfe-b75d-e5cb05dde5c2",
   "metadata": {},
   "outputs": [
    {
     "name": "stdout",
     "output_type": "stream",
     "text": [
      "Updated file written to: C:\\CJH\\Python\\FRC\\2025\\robot\\deploy\\pathplanner\\paths\\\\1+n LEFT A driveby preload_left.path\n"
     ]
    }
   ],
   "source": [
    "# Write the corrected JSON to a new file\n",
    "with open(output_filename, \"w\") as f:\n",
    "    json.dump(data, f, indent=2)\n",
    "\n",
    "print(f\"Updated file written to: {output_filename}\")"
   ]
  },
  {
   "cell_type": "code",
   "execution_count": null,
   "id": "c79c295e-8f27-4c0a-8aeb-e5056ba4a6ec",
   "metadata": {},
   "outputs": [],
   "source": []
  }
 ],
 "metadata": {
  "kernelspec": {
   "display_name": "Python [conda env:robo2025]",
   "language": "python",
   "name": "conda-env-robo2025-py"
  },
  "language_info": {
   "codemirror_mode": {
    "name": "ipython",
    "version": 3
   },
   "file_extension": ".py",
   "mimetype": "text/x-python",
   "name": "python",
   "nbconvert_exporter": "python",
   "pygments_lexer": "ipython3",
   "version": "3.11.11"
  }
 },
 "nbformat": 4,
 "nbformat_minor": 5
}
