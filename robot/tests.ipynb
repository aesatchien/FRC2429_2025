{
 "cells": [
  {
   "cell_type": "code",
   "execution_count": 1,
   "id": "4f57f39b-e62c-4121-b535-dc1fc6d8e5a1",
   "metadata": {},
   "outputs": [],
   "source": [
    "run constants.py"
   ]
  },
  {
   "cell_type": "code",
   "execution_count": 2,
   "id": "20e007f9-7cd6-4353-8e7a-41f15fc4cb20",
   "metadata": {},
   "outputs": [
    {
     "data": {
      "text/plain": [
       "dict_keys(['stow', 'ground', 'l1', 'l2', 'l3', 'l4', 'coral station', 'processor', 'barge', 'algae low', 'algae high'])"
      ]
     },
     "execution_count": 2,
     "metadata": {},
     "output_type": "execute_result"
    }
   ],
   "source": [
    "k_positions.keys()"
   ]
  },
  {
   "cell_type": "code",
   "execution_count": 10,
   "id": "39cd7dd6-0178-48e2-ae15-3cd2a14c3003",
   "metadata": {},
   "outputs": [
    {
     "name": "stdout",
     "output_type": "stream",
     "text": [
      "STOW = {'name': 'stow'}\n",
      "GROUND = {'name': 'ground'}\n",
      "L1 = {'name': 'l1'}\n",
      "L2 = {'name': 'l2'}\n",
      "L3 = {'name': 'l3'}\n",
      "L4 = {'name': 'l4'}\n",
      "CORAL_STATION = {'name': 'coral station'}\n",
      "PROCESSOR = {'name': 'processor'}\n",
      "BARGE = {'name': 'barge'}\n",
      "ALGAE_LOW = {'name': 'algae low'}\n",
      "ALGAE_HIGH = {'name': 'algae high'}\n"
     ]
    },
    {
     "data": {
      "text/plain": [
       "[None, None, None, None, None, None, None, None, None, None, None]"
      ]
     },
     "execution_count": 10,
     "metadata": {},
     "output_type": "execute_result"
    }
   ],
   "source": [
    "[ print(f\"{key.upper().replace(' ', '_')} = {{'name': '{key}'}}\") for key in k_positions.keys()]"
   ]
  },
  {
   "cell_type": "code",
   "execution_count": 12,
   "id": "eab99951-a3f0-4d9e-b6f6-77fac0c3a568",
   "metadata": {},
   "outputs": [
    {
     "data": {
      "text/plain": [
       "0.5334"
      ]
     },
     "execution_count": 12,
     "metadata": {},
     "output_type": "execute_result"
    }
   ],
   "source": [
    "k_positions['l3']['elevator']"
   ]
  },
  {
   "cell_type": "code",
   "execution_count": 13,
   "id": "fe0d949d-d066-4753-b2cd-02d0cf51cd84",
   "metadata": {},
   "outputs": [
    {
     "data": {
      "text/plain": [
       "''"
      ]
     },
     "execution_count": 13,
     "metadata": {},
     "output_type": "execute_result"
    }
   ],
   "source": [
    "0 * \" \""
   ]
  },
  {
   "cell_type": "code",
   "execution_count": null,
   "id": "b266b6c0-dcc3-4c54-92f4-6b0ce4dbd5c5",
   "metadata": {},
   "outputs": [],
   "source": []
  }
 ],
 "metadata": {
  "kernelspec": {
   "display_name": "Python [conda env:robo2025]",
   "language": "python",
   "name": "conda-env-robo2025-py"
  },
  "language_info": {
   "codemirror_mode": {
    "name": "ipython",
    "version": 3
   },
   "file_extension": ".py",
   "mimetype": "text/x-python",
   "name": "python",
   "nbconvert_exporter": "python",
   "pygments_lexer": "ipython3",
   "version": "3.11.11"
  }
 },
 "nbformat": 4,
 "nbformat_minor": 5
}
